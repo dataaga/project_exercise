{
 "cells": [
  {
   "cell_type": "code",
   "execution_count": 358,
   "id": "56b5b3fa",
   "metadata": {},
   "outputs": [],
   "source": [
    "import pandas as pd\n",
    "import pickle\n",
    "from scipy.stats import poisson"
   ]
  },
  {
   "cell_type": "code",
   "execution_count": 359,
   "id": "b5dab05e",
   "metadata": {},
   "outputs": [],
   "source": [
    "negara_pergrup = pickle.load(open('/Users/agagoks/Desktop/Predicting Worldcup 2022/file/fifa-world-cup-2022-prediction-main/data/dict_table','rb'))\n",
    "df_goals = pd.read_csv('/Users/agagoks/Desktop/Predicting Worldcup 2022/file/fifa-world-cup-2022-prediction-main/data/clean_fifa_worldcup_matches.csv')\n",
    "df_fixture = pd.read_csv('/Users/agagoks/Desktop/Predicting Worldcup 2022/file/fifa-world-cup-2022-prediction-main/data/clean_fifa_worldcup_fixture.csv')"
   ]
  },
  {
   "cell_type": "markdown",
   "id": "3afb3c4d",
   "metadata": {},
   "source": [
    "## 1. Hitung Kekuatan Tim"
   ]
  },
  {
   "cell_type": "code",
   "execution_count": 360,
   "id": "d5ab55f3",
   "metadata": {},
   "outputs": [
    {
     "name": "stdout",
     "output_type": "stream",
     "text": [
      "      HomeTeam  HomeGoals  AwayGoals\n",
      "0       France          4          1\n",
      "1      Uruguay          4          2\n",
      "2      Uruguay          6          1\n",
      "3    Argentina          6          1\n",
      "4     Paraguay          1          0\n",
      "..         ...        ...        ...\n",
      "895     Brazil          2          0\n",
      "896     Serbia          1          2\n",
      "897     Serbia          0          2\n",
      "898     France          1          0\n",
      "899     Brazil          1          2\n",
      "\n",
      "[900 rows x 3 columns]\n",
      "          AwayTeam  HomeGoals  AwayGoals\n",
      "0           Mexico          4          1\n",
      "1        Argentina          4          2\n",
      "2       Yugoslavia          6          1\n",
      "3    United States          6          1\n",
      "4          Belgium          1          0\n",
      "..             ...        ...        ...\n",
      "895     Costa Rica          2          0\n",
      "896    Switzerland          1          2\n",
      "897         Brazil          0          2\n",
      "898           Peru          1          0\n",
      "899        Belgium          1          2\n",
      "\n",
      "[900 rows x 3 columns]\n"
     ]
    }
   ],
   "source": [
    "#Pisahin satu persatu buat Data Gol masing-masing Tim Negara\n",
    "tabel_kandang = df_goals[['HomeTeam','HomeGoals','AwayGoals']]\n",
    "tabel_tandang = df_goals[['AwayTeam','HomeGoals','AwayGoals']]\n",
    "print(tabel_kandang)\n",
    "print(tabel_tandang)"
   ]
  },
  {
   "cell_type": "code",
   "execution_count": 361,
   "id": "737cda44",
   "metadata": {},
   "outputs": [
    {
     "name": "stdout",
     "output_type": "stream",
     "text": [
      "     TimNegara  Gol  GolKebobolan\n",
      "0       France    4             1\n",
      "1      Uruguay    4             2\n",
      "2      Uruguay    6             1\n",
      "3    Argentina    6             1\n",
      "4     Paraguay    1             0\n",
      "..         ...  ...           ...\n",
      "895     Brazil    2             0\n",
      "896     Serbia    1             2\n",
      "897     Serbia    0             2\n",
      "898     France    1             0\n",
      "899     Brazil    1             2\n",
      "\n",
      "[900 rows x 3 columns]\n",
      "         TimNegara  GolKebobolan  Gol\n",
      "0           Mexico             4    1\n",
      "1        Argentina             4    2\n",
      "2       Yugoslavia             6    1\n",
      "3    United States             6    1\n",
      "4          Belgium             1    0\n",
      "..             ...           ...  ...\n",
      "895     Costa Rica             2    0\n",
      "896    Switzerland             1    2\n",
      "897         Brazil             0    2\n",
      "898           Peru             1    0\n",
      "899        Belgium             1    2\n",
      "\n",
      "[900 rows x 3 columns]\n"
     ]
    }
   ],
   "source": [
    "#Rename Nama Kolom Tabel Gol\n",
    "tabel_kandang = tabel_kandang.rename(columns={'HomeTeam':'TimNegara','HomeGoals':'Gol','AwayGoals':'GolKebobolan'})\n",
    "tabel_tandang = tabel_tandang.rename(columns={'AwayTeam':'TimNegara','HomeGoals':'GolKebobolan','AwayGoals':'Gol'})\n",
    "print(tabel_kandang)\n",
    "print(tabel_tandang)"
   ]
  },
  {
   "cell_type": "code",
   "execution_count": 362,
   "id": "ecff35df",
   "metadata": {},
   "outputs": [
    {
     "data": {
      "text/html": [
       "<div>\n",
       "<style scoped>\n",
       "    .dataframe tbody tr th:only-of-type {\n",
       "        vertical-align: middle;\n",
       "    }\n",
       "\n",
       "    .dataframe tbody tr th {\n",
       "        vertical-align: top;\n",
       "    }\n",
       "\n",
       "    .dataframe thead th {\n",
       "        text-align: right;\n",
       "    }\n",
       "</style>\n",
       "<table border=\"1\" class=\"dataframe\">\n",
       "  <thead>\n",
       "    <tr style=\"text-align: right;\">\n",
       "      <th></th>\n",
       "      <th>Gol</th>\n",
       "      <th>GolKebobolan</th>\n",
       "    </tr>\n",
       "    <tr>\n",
       "      <th>TimNegara</th>\n",
       "      <th></th>\n",
       "      <th></th>\n",
       "    </tr>\n",
       "  </thead>\n",
       "  <tbody>\n",
       "    <tr>\n",
       "      <th>Algeria</th>\n",
       "      <td>1.000000</td>\n",
       "      <td>1.461538</td>\n",
       "    </tr>\n",
       "    <tr>\n",
       "      <th>Angola</th>\n",
       "      <td>0.333333</td>\n",
       "      <td>0.666667</td>\n",
       "    </tr>\n",
       "    <tr>\n",
       "      <th>Argentina</th>\n",
       "      <td>1.691358</td>\n",
       "      <td>1.148148</td>\n",
       "    </tr>\n",
       "    <tr>\n",
       "      <th>Australia</th>\n",
       "      <td>0.812500</td>\n",
       "      <td>1.937500</td>\n",
       "    </tr>\n",
       "    <tr>\n",
       "      <th>Austria</th>\n",
       "      <td>1.482759</td>\n",
       "      <td>1.620690</td>\n",
       "    </tr>\n",
       "    <tr>\n",
       "      <th>...</th>\n",
       "      <td>...</td>\n",
       "      <td>...</td>\n",
       "    </tr>\n",
       "    <tr>\n",
       "      <th>Uruguay</th>\n",
       "      <td>1.553571</td>\n",
       "      <td>1.321429</td>\n",
       "    </tr>\n",
       "    <tr>\n",
       "      <th>Wales</th>\n",
       "      <td>0.800000</td>\n",
       "      <td>0.800000</td>\n",
       "    </tr>\n",
       "    <tr>\n",
       "      <th>West Germany</th>\n",
       "      <td>2.112903</td>\n",
       "      <td>1.241935</td>\n",
       "    </tr>\n",
       "    <tr>\n",
       "      <th>Yugoslavia</th>\n",
       "      <td>1.666667</td>\n",
       "      <td>1.272727</td>\n",
       "    </tr>\n",
       "    <tr>\n",
       "      <th>Zaire</th>\n",
       "      <td>0.000000</td>\n",
       "      <td>4.666667</td>\n",
       "    </tr>\n",
       "  </tbody>\n",
       "</table>\n",
       "<p>85 rows × 2 columns</p>\n",
       "</div>"
      ],
      "text/plain": [
       "                   Gol  GolKebobolan\n",
       "TimNegara                           \n",
       "Algeria       1.000000      1.461538\n",
       "Angola        0.333333      0.666667\n",
       "Argentina     1.691358      1.148148\n",
       "Australia     0.812500      1.937500\n",
       "Austria       1.482759      1.620690\n",
       "...                ...           ...\n",
       "Uruguay       1.553571      1.321429\n",
       "Wales         0.800000      0.800000\n",
       "West Germany  2.112903      1.241935\n",
       "Yugoslavia    1.666667      1.272727\n",
       "Zaire         0.000000      4.666667\n",
       "\n",
       "[85 rows x 2 columns]"
      ]
     },
     "execution_count": 362,
     "metadata": {},
     "output_type": "execute_result"
    }
   ],
   "source": [
    "tabel_kekuatantim = pd.concat([tabel_kandang,tabel_tandang],ignore_index=True).groupby('TimNegara').mean()\n",
    "tabel_kekuatantim"
   ]
  },
  {
   "cell_type": "markdown",
   "id": "d37536b9",
   "metadata": {},
   "source": [
    "## 2. Bikin Function Prediksi Poin"
   ]
  },
  {
   "cell_type": "code",
   "execution_count": 363,
   "id": "b512b0a2",
   "metadata": {},
   "outputs": [],
   "source": [
    "def prediksi_poin(kandang, tandang):\n",
    "    if kandang in tabel_kekuatantim.index and tandang in tabel_kekuatantim.index:\n",
    "        # gol * golkebobolan\n",
    "        lambda_kandang = tabel_kekuatantim.at[kandang,'Gol'] * tabel_kekuatantim.at[tandang,'GolKebobolan']\n",
    "        lambda_tandang = tabel_kekuatantim.at[tandang,'Gol'] * tabel_kekuatantim.at[kandang,'GolKebobolan']\n",
    "        peluang_kandang, peluang_tandang, peluang_seri = 0, 0, 0\n",
    "        for x in range(0,11): #jumlah gol di kandang\n",
    "            for y in range(0, 11): #jumlah gol di tandang\n",
    "                p = poisson.pmf(x, lambda_kandang) * poisson.pmf(y, lambda_tandang)\n",
    "                if x == y:\n",
    "                    peluang_seri += p\n",
    "                elif x > y:\n",
    "                    peluang_kandang += p\n",
    "                else:\n",
    "                    peluang_tandang += p\n",
    "        \n",
    "        poin_kandang = 3 * peluang_kandang + peluang_seri\n",
    "        poin_tandang = 3 * peluang_tandang + peluang_seri\n",
    "        return (poin_kandang, poin_tandang)\n",
    "    else:\n",
    "        return (0, 0)"
   ]
  },
  {
   "cell_type": "markdown",
   "id": "256cc79f",
   "metadata": {},
   "source": [
    "## 3. Prediksi pakai Function yang sudah dibuat"
   ]
  },
  {
   "cell_type": "code",
   "execution_count": 364,
   "id": "d5ad4da5",
   "metadata": {},
   "outputs": [
    {
     "name": "stdout",
     "output_type": "stream",
     "text": [
      "(2.3129151525530505, 0.5378377125059863)\n",
      "(2.4593706967067446, 0.4099298842555182)\n",
      "(0.4564917304513103, 2.398798931491757)\n",
      "(2.766788040790599, 0.16070278218467365)\n",
      "(1.948655324046039, 0.8484267835008392)\n",
      "(1.5116745114853647, 1.2846784356494922)\n"
     ]
    }
   ],
   "source": [
    "print(prediksi_poin('Argentina','Mexico'))\n",
    "print(prediksi_poin('France','Tunisia'))\n",
    "print(prediksi_poin('Japan','Germany'))\n",
    "print(prediksi_poin('Brazil','Cameroon'))\n",
    "print(prediksi_poin('Portugal','Ghana'))\n",
    "print(prediksi_poin('Brazil','Germany'))"
   ]
  },
  {
   "cell_type": "markdown",
   "id": "7f7fcbb6",
   "metadata": {},
   "source": [
    "## 4. Bikin Jadwal Tanding per Fase"
   ]
  },
  {
   "cell_type": "code",
   "execution_count": 365,
   "id": "211623ce",
   "metadata": {},
   "outputs": [
    {
     "name": "stdout",
     "output_type": "stream",
     "text": [
      "Fase Grup\n",
      "             home     score           away  year\n",
      "0           Qatar   Match 1        Ecuador  2022\n",
      "1         Senegal   Match 2    Netherlands  2022\n",
      "2           Qatar  Match 18        Senegal  2022\n",
      "3     Netherlands  Match 19        Ecuador  2022\n",
      "4         Ecuador  Match 35        Senegal  2022\n",
      "5     Netherlands  Match 36          Qatar  2022\n",
      "6         England   Match 3           Iran  2022\n",
      "7   United States   Match 4          Wales  2022\n",
      "8           Wales  Match 17           Iran  2022\n",
      "9         England  Match 20  United States  2022\n",
      "10          Wales  Match 33        England  2022\n",
      "11           Iran  Match 34  United States  2022\n",
      "12      Argentina   Match 8   Saudi Arabia  2022\n",
      "13         Mexico   Match 7         Poland  2022\n",
      "14         Poland  Match 22   Saudi Arabia  2022\n",
      "15      Argentina  Match 24         Mexico  2022\n",
      "16         Poland  Match 39      Argentina  2022\n",
      "17   Saudi Arabia  Match 40         Mexico  2022\n",
      "18        Denmark   Match 6        Tunisia  2022\n",
      "19         France   Match 5      Australia  2022\n",
      "20        Tunisia  Match 21      Australia  2022\n",
      "21         France  Match 23        Denmark  2022\n",
      "22      Australia  Match 37        Denmark  2022\n",
      "23        Tunisia  Match 38         France  2022\n",
      "24        Germany  Match 11          Japan  2022\n",
      "25          Spain  Match 10     Costa Rica  2022\n",
      "26          Japan  Match 25     Costa Rica  2022\n",
      "27          Spain  Match 28        Germany  2022\n",
      "28          Japan  Match 43          Spain  2022\n",
      "29     Costa Rica  Match 44        Germany  2022\n",
      "30        Morocco  Match 12        Croatia  2022\n",
      "31        Belgium   Match 9         Canada  2022\n",
      "32        Belgium  Match 26        Morocco  2022\n",
      "33        Croatia  Match 27         Canada  2022\n",
      "34        Croatia  Match 41        Belgium  2022\n",
      "35         Canada  Match 42        Morocco  2022\n",
      "36    Switzerland  Match 13       Cameroon  2022\n",
      "37         Brazil  Match 16         Serbia  2022\n",
      "38       Cameroon  Match 29         Serbia  2022\n",
      "39         Brazil  Match 31    Switzerland  2022\n",
      "40         Serbia  Match 47    Switzerland  2022\n",
      "41       Cameroon  Match 48         Brazil  2022\n",
      "42        Uruguay  Match 14    South Korea  2022\n",
      "43       Portugal  Match 15          Ghana  2022\n",
      "44    South Korea  Match 30          Ghana  2022\n",
      "45       Portugal  Match 32        Uruguay  2022\n",
      "46          Ghana  Match 45        Uruguay  2022\n",
      "47    South Korea  Match 46       Portugal  2022\n",
      "Fase Knockout\n",
      "               home     score                away  year\n",
      "48  Winners Group A  Match 49  Runners-up Group B  2022\n",
      "49  Winners Group C  Match 50  Runners-up Group D  2022\n",
      "50  Winners Group D  Match 52  Runners-up Group C  2022\n",
      "51  Winners Group B  Match 51  Runners-up Group A  2022\n",
      "52  Winners Group E  Match 53  Runners-up Group F  2022\n",
      "53  Winners Group G  Match 54  Runners-up Group H  2022\n",
      "54  Winners Group F  Match 55  Runners-up Group E  2022\n",
      "55  Winners Group H  Match 56  Runners-up Group G  2022\n",
      "Fase 1/4 Final\n",
      "                home     score              away  year\n",
      "56  Winners Match 53  Match 58  Winners Match 54  2022\n",
      "57  Winners Match 49  Match 57  Winners Match 50  2022\n",
      "58  Winners Match 55  Match 60  Winners Match 56  2022\n",
      "59  Winners Match 51  Match 59  Winners Match 52  2022\n",
      "Fase Semifinal\n",
      "                home     score              away  year\n",
      "60  Winners Match 57  Match 61  Winners Match 58  2022\n",
      "61  Winners Match 59  Match 62  Winners Match 60  2022\n",
      "Fase Final\n",
      "                home     score              away  year\n",
      "62   Losers Match 61  Match 63   Losers Match 62  2022\n",
      "63  Winners Match 61  Match 64  Winners Match 62  2022\n"
     ]
    }
   ],
   "source": [
    "#Cari Jadwal Per Fase\n",
    "\n",
    "##Jadi fase Grup ada 8 grup/32 tim x 6 jatah main = 48 pertandingan\n",
    "tabel_jadwal_grup = df_fixture[:48].copy()\n",
    "##Lanjut fase Knockout/Playoff ada 8 pertandingan\n",
    "tabel_jadwal_knockout = df_fixture[48:56].copy()\n",
    "##Fase 1/4 ada 4 pertandingan\n",
    "tabel_jadwal_seperempat = df_fixture[56:60].copy()\n",
    "##Fase Semifinal ada 2 pertandingan\n",
    "tabel_jadwal_semifinal = df_fixture[60:62].copy()\n",
    "##Fase Final ada 1 pertandingan, sekaligus perebutan juara ke-3 berarti ada 1 pertandingan\n",
    "tabel_jadwal_final = df_fixture[62:].copy()\n",
    "##Total pertandingan berjumlah 48 + 8 + 4 + 2 + 1 + 1 = 64 pertandingan\n",
    "\n",
    "print('Fase Grup')\n",
    "print(tabel_jadwal_grup)\n",
    "print('Fase Knockout')\n",
    "print(tabel_jadwal_knockout)\n",
    "print('Fase 1/4 Final')\n",
    "print(tabel_jadwal_seperempat)\n",
    "print('Fase Semifinal')\n",
    "print(tabel_jadwal_semifinal)\n",
    "print('Fase Final')\n",
    "print(tabel_jadwal_final)"
   ]
  },
  {
   "cell_type": "markdown",
   "id": "beb41a58",
   "metadata": {},
   "source": [
    "## 5. Fase Grup"
   ]
  },
  {
   "cell_type": "code",
   "execution_count": 366,
   "id": "09c8a21c",
   "metadata": {},
   "outputs": [],
   "source": [
    "for grup in negara_pergrup:\n",
    "    tabel_negara = negara_pergrup[grup]['Team'].values #4 negara dalam 1 grup\n",
    "    fixture_6match_pergrup = tabel_jadwal_grup[tabel_jadwal_grup['home'].isin(tabel_negara)] #antarnegara 6x main\n",
    "    for index,row in fixture_6match_pergrup.iterrows():\n",
    "        kandang,tandang = row['home'], row['away']\n",
    "        poin_kandang,poin_tandang = prediksi_poin(kandang,tandang)\n",
    "        negara_pergrup[grup].loc[negara_pergrup[grup]['Team'] == kandang, 'Pts'] += poin_kandang\n",
    "        negara_pergrup[grup].loc[negara_pergrup[grup]['Team'] == tandang, 'Pts'] += poin_tandang\n",
    "            \n",
    "    negara_pergrup[grup] = negara_pergrup[grup].sort_values('Pts', ascending=False).reset_index()\n",
    "    negara_pergrup[grup] = negara_pergrup[grup][['Team','Pts']]\n",
    "    negara_pergrup[grup] = negara_pergrup[grup].round(0)"
   ]
  },
  {
   "cell_type": "code",
   "execution_count": 367,
   "id": "786153bb",
   "metadata": {},
   "outputs": [
    {
     "data": {
      "image/png": "[encoded data removed]",
      "text/plain": [
       "<Figure size 432x288 with 1 Axes>"
      ]
     },
     "metadata": {
      "needs_background": "light"
     },
     "output_type": "display_data"
    },
    {
     "data": {
      "image/png": "[encoded data removed]",
      "text/plain": [
       "<Figure size 432x288 with 1 Axes>"
      ]
     },
     "metadata": {
      "needs_background": "light"
     },
     "output_type": "display_data"
    },
    {
     "data": {
      "image/png": "[encoded data removed]",
      "text/plain": [
       "<Figure size 432x288 with 1 Axes>"
      ]
     },
     "metadata": {
      "needs_background": "light"
     },
     "output_type": "display_data"
    },
    {
     "data": {
      "image/png": "[encoded data removed]",
      "text/plain": [
       "<Figure size 432x288 with 1 Axes>"
      ]
     },
     "metadata": {
      "needs_background": "light"
     },
     "output_type": "display_data"
    },
    {
     "data": {
      "image/png": "[encoded data removed]",
      "text/plain": [
       "<Figure size 432x288 with 1 Axes>"
      ]
     },
     "metadata": {
      "needs_background": "light"
     },
     "output_type": "display_data"
    },
    {
     "data": {
      "image/png": "[encoded data removed]",
      "text/plain": [
       "<Figure size 432x288 with 1 Axes>"
      ]
     },
     "metadata": {
      "needs_background": "light"
     },
     "output_type": "display_data"
    },
    {
     "data": {
      "image/png": "[encoded data removed]",
      "text/plain": [
       "<Figure size 432x288 with 1 Axes>"
      ]
     },
     "metadata": {
      "needs_background": "light"
     },
     "output_type": "display_data"
    },
    {
     "data": {
      "image/png": "[encoded data removed]",
      "text/plain": [
       "<Figure size 432x288 with 1 Axes>"
      ]
     },
     "metadata": {
      "needs_background": "light"
     },
     "output_type": "display_data"
    }
   ],
   "source": [
    "import seaborn as sns\n",
    "import matplotlib.pyplot as plt\n",
    "\n",
    "df_grupA = pd.DataFrame(negara_pergrup['Group A'])\n",
    "sns.barplot(x='Team',y='Pts',data=df_grupA)\n",
    "plt.show()\n",
    "\n",
    "df_grupB = pd.DataFrame(negara_pergrup['Group B'])\n",
    "sns.barplot(x='Team',y='Pts',data=df_grupB)\n",
    "plt.show()\n",
    "\n",
    "df_grupC = pd.DataFrame(negara_pergrup['Group C'])\n",
    "sns.barplot(x='Team',y='Pts',data=df_grupC)\n",
    "plt.show()\n",
    "\n",
    "df_grupD = pd.DataFrame(negara_pergrup['Group D'])\n",
    "sns.barplot(x='Team',y='Pts',data=df_grupD)\n",
    "plt.show()\n",
    "\n",
    "df_grupE = pd.DataFrame(negara_pergrup['Group E'])\n",
    "sns.barplot(x='Team',y='Pts',data=df_grupE)\n",
    "plt.show()\n",
    "\n",
    "df_grupF = pd.DataFrame(negara_pergrup['Group F'])\n",
    "sns.barplot(x='Team',y='Pts',data=df_grupF)\n",
    "plt.show()\n",
    "\n",
    "df_grupG = pd.DataFrame(negara_pergrup['Group G'])\n",
    "sns.barplot(x='Team',y='Pts',data=df_grupG)\n",
    "plt.show()\n",
    "\n",
    "df_grupH = pd.DataFrame(negara_pergrup['Group H'])\n",
    "sns.barplot(x='Team',y='Pts',data=df_grupH)\n",
    "plt.show()"
   ]
  },
  {
   "cell_type": "markdown",
   "id": "f3b82457",
   "metadata": {},
   "source": [
    "## 6. Fase Knockout"
   ]
  },
  {
   "cell_type": "code",
   "execution_count": 368,
   "id": "bd290341",
   "metadata": {},
   "outputs": [
    {
     "data": {
      "text/html": [
       "<div>\n",
       "<style scoped>\n",
       "    .dataframe tbody tr th:only-of-type {\n",
       "        vertical-align: middle;\n",
       "    }\n",
       "\n",
       "    .dataframe tbody tr th {\n",
       "        vertical-align: top;\n",
       "    }\n",
       "\n",
       "    .dataframe thead th {\n",
       "        text-align: right;\n",
       "    }\n",
       "</style>\n",
       "<table border=\"1\" class=\"dataframe\">\n",
       "  <thead>\n",
       "    <tr style=\"text-align: right;\">\n",
       "      <th></th>\n",
       "      <th>home</th>\n",
       "      <th>score</th>\n",
       "      <th>away</th>\n",
       "      <th>year</th>\n",
       "    </tr>\n",
       "  </thead>\n",
       "  <tbody>\n",
       "    <tr>\n",
       "      <th>48</th>\n",
       "      <td>Winners Group A</td>\n",
       "      <td>Match 49</td>\n",
       "      <td>Runners-up Group B</td>\n",
       "      <td>2022</td>\n",
       "    </tr>\n",
       "    <tr>\n",
       "      <th>49</th>\n",
       "      <td>Winners Group C</td>\n",
       "      <td>Match 50</td>\n",
       "      <td>Runners-up Group D</td>\n",
       "      <td>2022</td>\n",
       "    </tr>\n",
       "    <tr>\n",
       "      <th>50</th>\n",
       "      <td>Winners Group D</td>\n",
       "      <td>Match 52</td>\n",
       "      <td>Runners-up Group C</td>\n",
       "      <td>2022</td>\n",
       "    </tr>\n",
       "    <tr>\n",
       "      <th>51</th>\n",
       "      <td>Winners Group B</td>\n",
       "      <td>Match 51</td>\n",
       "      <td>Runners-up Group A</td>\n",
       "      <td>2022</td>\n",
       "    </tr>\n",
       "    <tr>\n",
       "      <th>52</th>\n",
       "      <td>Winners Group E</td>\n",
       "      <td>Match 53</td>\n",
       "      <td>Runners-up Group F</td>\n",
       "      <td>2022</td>\n",
       "    </tr>\n",
       "    <tr>\n",
       "      <th>53</th>\n",
       "      <td>Winners Group G</td>\n",
       "      <td>Match 54</td>\n",
       "      <td>Runners-up Group H</td>\n",
       "      <td>2022</td>\n",
       "    </tr>\n",
       "    <tr>\n",
       "      <th>54</th>\n",
       "      <td>Winners Group F</td>\n",
       "      <td>Match 55</td>\n",
       "      <td>Runners-up Group E</td>\n",
       "      <td>2022</td>\n",
       "    </tr>\n",
       "    <tr>\n",
       "      <th>55</th>\n",
       "      <td>Winners Group H</td>\n",
       "      <td>Match 56</td>\n",
       "      <td>Runners-up Group G</td>\n",
       "      <td>2022</td>\n",
       "    </tr>\n",
       "  </tbody>\n",
       "</table>\n",
       "</div>"
      ],
      "text/plain": [
       "               home     score                away  year\n",
       "48  Winners Group A  Match 49  Runners-up Group B  2022\n",
       "49  Winners Group C  Match 50  Runners-up Group D  2022\n",
       "50  Winners Group D  Match 52  Runners-up Group C  2022\n",
       "51  Winners Group B  Match 51  Runners-up Group A  2022\n",
       "52  Winners Group E  Match 53  Runners-up Group F  2022\n",
       "53  Winners Group G  Match 54  Runners-up Group H  2022\n",
       "54  Winners Group F  Match 55  Runners-up Group E  2022\n",
       "55  Winners Group H  Match 56  Runners-up Group G  2022"
      ]
     },
     "execution_count": 368,
     "metadata": {},
     "output_type": "execute_result"
    }
   ],
   "source": [
    "tabel_jadwal_knockout"
   ]
  },
  {
   "cell_type": "code",
   "execution_count": 369,
   "id": "0eb18705",
   "metadata": {},
   "outputs": [
    {
     "data": {
      "text/html": [
       "<div>\n",
       "<style scoped>\n",
       "    .dataframe tbody tr th:only-of-type {\n",
       "        vertical-align: middle;\n",
       "    }\n",
       "\n",
       "    .dataframe tbody tr th {\n",
       "        vertical-align: top;\n",
       "    }\n",
       "\n",
       "    .dataframe thead th {\n",
       "        text-align: right;\n",
       "    }\n",
       "</style>\n",
       "<table border=\"1\" class=\"dataframe\">\n",
       "  <thead>\n",
       "    <tr style=\"text-align: right;\">\n",
       "      <th></th>\n",
       "      <th>home</th>\n",
       "      <th>score</th>\n",
       "      <th>away</th>\n",
       "      <th>year</th>\n",
       "      <th>winner</th>\n",
       "    </tr>\n",
       "  </thead>\n",
       "  <tbody>\n",
       "    <tr>\n",
       "      <th>48</th>\n",
       "      <td>Netherlands</td>\n",
       "      <td>Match 49</td>\n",
       "      <td>Wales</td>\n",
       "      <td>2022</td>\n",
       "      <td>?</td>\n",
       "    </tr>\n",
       "    <tr>\n",
       "      <th>49</th>\n",
       "      <td>Argentina</td>\n",
       "      <td>Match 50</td>\n",
       "      <td>Denmark</td>\n",
       "      <td>2022</td>\n",
       "      <td>?</td>\n",
       "    </tr>\n",
       "    <tr>\n",
       "      <th>50</th>\n",
       "      <td>France</td>\n",
       "      <td>Match 52</td>\n",
       "      <td>Poland</td>\n",
       "      <td>2022</td>\n",
       "      <td>?</td>\n",
       "    </tr>\n",
       "    <tr>\n",
       "      <th>51</th>\n",
       "      <td>England</td>\n",
       "      <td>Match 51</td>\n",
       "      <td>Senegal</td>\n",
       "      <td>2022</td>\n",
       "      <td>?</td>\n",
       "    </tr>\n",
       "    <tr>\n",
       "      <th>52</th>\n",
       "      <td>Germany</td>\n",
       "      <td>Match 53</td>\n",
       "      <td>Belgium</td>\n",
       "      <td>2022</td>\n",
       "      <td>?</td>\n",
       "    </tr>\n",
       "    <tr>\n",
       "      <th>53</th>\n",
       "      <td>Brazil</td>\n",
       "      <td>Match 54</td>\n",
       "      <td>Uruguay</td>\n",
       "      <td>2022</td>\n",
       "      <td>?</td>\n",
       "    </tr>\n",
       "    <tr>\n",
       "      <th>54</th>\n",
       "      <td>Croatia</td>\n",
       "      <td>Match 55</td>\n",
       "      <td>Spain</td>\n",
       "      <td>2022</td>\n",
       "      <td>?</td>\n",
       "    </tr>\n",
       "    <tr>\n",
       "      <th>55</th>\n",
       "      <td>Portugal</td>\n",
       "      <td>Match 56</td>\n",
       "      <td>Switzerland</td>\n",
       "      <td>2022</td>\n",
       "      <td>?</td>\n",
       "    </tr>\n",
       "  </tbody>\n",
       "</table>\n",
       "</div>"
      ],
      "text/plain": [
       "           home     score         away  year winner\n",
       "48  Netherlands  Match 49        Wales  2022      ?\n",
       "49    Argentina  Match 50      Denmark  2022      ?\n",
       "50       France  Match 52       Poland  2022      ?\n",
       "51      England  Match 51      Senegal  2022      ?\n",
       "52      Germany  Match 53      Belgium  2022      ?\n",
       "53       Brazil  Match 54      Uruguay  2022      ?\n",
       "54      Croatia  Match 55        Spain  2022      ?\n",
       "55     Portugal  Match 56  Switzerland  2022      ?"
      ]
     },
     "execution_count": 369,
     "metadata": {},
     "output_type": "execute_result"
    }
   ],
   "source": [
    "for grup in negara_pergrup:\n",
    "    pemenang1_grup = negara_pergrup[grup].loc[0, 'Team']\n",
    "    pemenang2_grup = negara_pergrup[grup].loc[1, 'Team']\n",
    "    tabel_jadwal_knockout.replace({f'Winners {grup}':pemenang1_grup,\n",
    "                                 f'Runners-up {grup}':pemenang2_grup}, inplace=True)\n",
    "\n",
    "tabel_jadwal_knockout['winner'] = '?'\n",
    "tabel_jadwal_knockout"
   ]
  },
  {
   "cell_type": "code",
   "execution_count": 370,
   "id": "92284d61",
   "metadata": {},
   "outputs": [],
   "source": [
    "def cari_pemenang(jadwal_terbaru):\n",
    "    for index, row in jadwal_terbaru.iterrows():\n",
    "        kandang, tandang = row['home'], row['away']\n",
    "        poin_kandang, poin_tandang = prediksi_poin(kandang, tandang)\n",
    "        if poin_kandang > poin_tandang:\n",
    "            pemenang = kandang\n",
    "        else:\n",
    "            pemenang = tandang\n",
    "        jadwal_terbaru.loc[index, 'winner'] = pemenang\n",
    "    return jadwal_terbaru"
   ]
  },
  {
   "cell_type": "code",
   "execution_count": 371,
   "id": "efd54700",
   "metadata": {},
   "outputs": [
    {
     "data": {
      "text/html": [
       "<div>\n",
       "<style scoped>\n",
       "    .dataframe tbody tr th:only-of-type {\n",
       "        vertical-align: middle;\n",
       "    }\n",
       "\n",
       "    .dataframe tbody tr th {\n",
       "        vertical-align: top;\n",
       "    }\n",
       "\n",
       "    .dataframe thead th {\n",
       "        text-align: right;\n",
       "    }\n",
       "</style>\n",
       "<table border=\"1\" class=\"dataframe\">\n",
       "  <thead>\n",
       "    <tr style=\"text-align: right;\">\n",
       "      <th></th>\n",
       "      <th>home</th>\n",
       "      <th>score</th>\n",
       "      <th>away</th>\n",
       "      <th>year</th>\n",
       "      <th>winner</th>\n",
       "    </tr>\n",
       "  </thead>\n",
       "  <tbody>\n",
       "    <tr>\n",
       "      <th>48</th>\n",
       "      <td>Netherlands</td>\n",
       "      <td>Match 49</td>\n",
       "      <td>Wales</td>\n",
       "      <td>2022</td>\n",
       "      <td>Netherlands</td>\n",
       "    </tr>\n",
       "    <tr>\n",
       "      <th>49</th>\n",
       "      <td>Argentina</td>\n",
       "      <td>Match 50</td>\n",
       "      <td>Denmark</td>\n",
       "      <td>2022</td>\n",
       "      <td>Argentina</td>\n",
       "    </tr>\n",
       "    <tr>\n",
       "      <th>50</th>\n",
       "      <td>France</td>\n",
       "      <td>Match 52</td>\n",
       "      <td>Poland</td>\n",
       "      <td>2022</td>\n",
       "      <td>France</td>\n",
       "    </tr>\n",
       "    <tr>\n",
       "      <th>51</th>\n",
       "      <td>England</td>\n",
       "      <td>Match 51</td>\n",
       "      <td>Senegal</td>\n",
       "      <td>2022</td>\n",
       "      <td>England</td>\n",
       "    </tr>\n",
       "    <tr>\n",
       "      <th>52</th>\n",
       "      <td>Germany</td>\n",
       "      <td>Match 53</td>\n",
       "      <td>Belgium</td>\n",
       "      <td>2022</td>\n",
       "      <td>Germany</td>\n",
       "    </tr>\n",
       "    <tr>\n",
       "      <th>53</th>\n",
       "      <td>Brazil</td>\n",
       "      <td>Match 54</td>\n",
       "      <td>Uruguay</td>\n",
       "      <td>2022</td>\n",
       "      <td>Brazil</td>\n",
       "    </tr>\n",
       "    <tr>\n",
       "      <th>54</th>\n",
       "      <td>Croatia</td>\n",
       "      <td>Match 55</td>\n",
       "      <td>Spain</td>\n",
       "      <td>2022</td>\n",
       "      <td>Spain</td>\n",
       "    </tr>\n",
       "    <tr>\n",
       "      <th>55</th>\n",
       "      <td>Portugal</td>\n",
       "      <td>Match 56</td>\n",
       "      <td>Switzerland</td>\n",
       "      <td>2022</td>\n",
       "      <td>Portugal</td>\n",
       "    </tr>\n",
       "  </tbody>\n",
       "</table>\n",
       "</div>"
      ],
      "text/plain": [
       "           home     score         away  year       winner\n",
       "48  Netherlands  Match 49        Wales  2022  Netherlands\n",
       "49    Argentina  Match 50      Denmark  2022    Argentina\n",
       "50       France  Match 52       Poland  2022       France\n",
       "51      England  Match 51      Senegal  2022      England\n",
       "52      Germany  Match 53      Belgium  2022      Germany\n",
       "53       Brazil  Match 54      Uruguay  2022       Brazil\n",
       "54      Croatia  Match 55        Spain  2022        Spain\n",
       "55     Portugal  Match 56  Switzerland  2022     Portugal"
      ]
     },
     "execution_count": 371,
     "metadata": {},
     "output_type": "execute_result"
    }
   ],
   "source": [
    "cari_pemenang(tabel_jadwal_knockout)"
   ]
  },
  {
   "cell_type": "markdown",
   "id": "fd31af07",
   "metadata": {},
   "source": [
    "## 7. Kuarter-Final"
   ]
  },
  {
   "cell_type": "code",
   "execution_count": 372,
   "id": "3c43f58f",
   "metadata": {},
   "outputs": [
    {
     "data": {
      "text/html": [
       "<div>\n",
       "<style scoped>\n",
       "    .dataframe tbody tr th:only-of-type {\n",
       "        vertical-align: middle;\n",
       "    }\n",
       "\n",
       "    .dataframe tbody tr th {\n",
       "        vertical-align: top;\n",
       "    }\n",
       "\n",
       "    .dataframe thead th {\n",
       "        text-align: right;\n",
       "    }\n",
       "</style>\n",
       "<table border=\"1\" class=\"dataframe\">\n",
       "  <thead>\n",
       "    <tr style=\"text-align: right;\">\n",
       "      <th></th>\n",
       "      <th>home</th>\n",
       "      <th>score</th>\n",
       "      <th>away</th>\n",
       "      <th>year</th>\n",
       "    </tr>\n",
       "  </thead>\n",
       "  <tbody>\n",
       "    <tr>\n",
       "      <th>56</th>\n",
       "      <td>Winners Match 53</td>\n",
       "      <td>Match 58</td>\n",
       "      <td>Winners Match 54</td>\n",
       "      <td>2022</td>\n",
       "    </tr>\n",
       "    <tr>\n",
       "      <th>57</th>\n",
       "      <td>Winners Match 49</td>\n",
       "      <td>Match 57</td>\n",
       "      <td>Winners Match 50</td>\n",
       "      <td>2022</td>\n",
       "    </tr>\n",
       "    <tr>\n",
       "      <th>58</th>\n",
       "      <td>Winners Match 55</td>\n",
       "      <td>Match 60</td>\n",
       "      <td>Winners Match 56</td>\n",
       "      <td>2022</td>\n",
       "    </tr>\n",
       "    <tr>\n",
       "      <th>59</th>\n",
       "      <td>Winners Match 51</td>\n",
       "      <td>Match 59</td>\n",
       "      <td>Winners Match 52</td>\n",
       "      <td>2022</td>\n",
       "    </tr>\n",
       "  </tbody>\n",
       "</table>\n",
       "</div>"
      ],
      "text/plain": [
       "                home     score              away  year\n",
       "56  Winners Match 53  Match 58  Winners Match 54  2022\n",
       "57  Winners Match 49  Match 57  Winners Match 50  2022\n",
       "58  Winners Match 55  Match 60  Winners Match 56  2022\n",
       "59  Winners Match 51  Match 59  Winners Match 52  2022"
      ]
     },
     "execution_count": 372,
     "metadata": {},
     "output_type": "execute_result"
    }
   ],
   "source": [
    "tabel_jadwal_seperempat"
   ]
  },
  {
   "cell_type": "code",
   "execution_count": 373,
   "id": "1a2287e6",
   "metadata": {},
   "outputs": [],
   "source": [
    "def update_tabel(kuarter_ronde1, kuarter_ronde2):\n",
    "    for index, row in kuarter_ronde1.iterrows():\n",
    "        pemenang = kuarter_ronde1.loc[index, 'winner']\n",
    "        pertandingan = kuarter_ronde1.loc[index, 'score']\n",
    "        kuarter_ronde2.replace({f'Winners {pertandingan}':pemenang}, inplace=True)\n",
    "    kuarter_ronde2['winner'] = '?'\n",
    "    return kuarter_ronde2"
   ]
  },
  {
   "cell_type": "code",
   "execution_count": 374,
   "id": "f45f13e1",
   "metadata": {},
   "outputs": [
    {
     "data": {
      "text/html": [
       "<div>\n",
       "<style scoped>\n",
       "    .dataframe tbody tr th:only-of-type {\n",
       "        vertical-align: middle;\n",
       "    }\n",
       "\n",
       "    .dataframe tbody tr th {\n",
       "        vertical-align: top;\n",
       "    }\n",
       "\n",
       "    .dataframe thead th {\n",
       "        text-align: right;\n",
       "    }\n",
       "</style>\n",
       "<table border=\"1\" class=\"dataframe\">\n",
       "  <thead>\n",
       "    <tr style=\"text-align: right;\">\n",
       "      <th></th>\n",
       "      <th>home</th>\n",
       "      <th>score</th>\n",
       "      <th>away</th>\n",
       "      <th>year</th>\n",
       "      <th>winner</th>\n",
       "    </tr>\n",
       "  </thead>\n",
       "  <tbody>\n",
       "    <tr>\n",
       "      <th>56</th>\n",
       "      <td>Germany</td>\n",
       "      <td>Match 58</td>\n",
       "      <td>Brazil</td>\n",
       "      <td>2022</td>\n",
       "      <td>?</td>\n",
       "    </tr>\n",
       "    <tr>\n",
       "      <th>57</th>\n",
       "      <td>Netherlands</td>\n",
       "      <td>Match 57</td>\n",
       "      <td>Argentina</td>\n",
       "      <td>2022</td>\n",
       "      <td>?</td>\n",
       "    </tr>\n",
       "    <tr>\n",
       "      <th>58</th>\n",
       "      <td>Spain</td>\n",
       "      <td>Match 60</td>\n",
       "      <td>Portugal</td>\n",
       "      <td>2022</td>\n",
       "      <td>?</td>\n",
       "    </tr>\n",
       "    <tr>\n",
       "      <th>59</th>\n",
       "      <td>England</td>\n",
       "      <td>Match 59</td>\n",
       "      <td>France</td>\n",
       "      <td>2022</td>\n",
       "      <td>?</td>\n",
       "    </tr>\n",
       "  </tbody>\n",
       "</table>\n",
       "</div>"
      ],
      "text/plain": [
       "           home     score       away  year winner\n",
       "56      Germany  Match 58     Brazil  2022      ?\n",
       "57  Netherlands  Match 57  Argentina  2022      ?\n",
       "58        Spain  Match 60   Portugal  2022      ?\n",
       "59      England  Match 59     France  2022      ?"
      ]
     },
     "execution_count": 374,
     "metadata": {},
     "output_type": "execute_result"
    }
   ],
   "source": [
    "update_tabel(tabel_jadwal_knockout, tabel_jadwal_seperempat)"
   ]
  },
  {
   "cell_type": "code",
   "execution_count": 375,
   "id": "174afcbb",
   "metadata": {},
   "outputs": [
    {
     "data": {
      "text/html": [
       "<div>\n",
       "<style scoped>\n",
       "    .dataframe tbody tr th:only-of-type {\n",
       "        vertical-align: middle;\n",
       "    }\n",
       "\n",
       "    .dataframe tbody tr th {\n",
       "        vertical-align: top;\n",
       "    }\n",
       "\n",
       "    .dataframe thead th {\n",
       "        text-align: right;\n",
       "    }\n",
       "</style>\n",
       "<table border=\"1\" class=\"dataframe\">\n",
       "  <thead>\n",
       "    <tr style=\"text-align: right;\">\n",
       "      <th></th>\n",
       "      <th>home</th>\n",
       "      <th>score</th>\n",
       "      <th>away</th>\n",
       "      <th>year</th>\n",
       "      <th>winner</th>\n",
       "    </tr>\n",
       "  </thead>\n",
       "  <tbody>\n",
       "    <tr>\n",
       "      <th>56</th>\n",
       "      <td>Germany</td>\n",
       "      <td>Match 58</td>\n",
       "      <td>Brazil</td>\n",
       "      <td>2022</td>\n",
       "      <td>Brazil</td>\n",
       "    </tr>\n",
       "    <tr>\n",
       "      <th>57</th>\n",
       "      <td>Netherlands</td>\n",
       "      <td>Match 57</td>\n",
       "      <td>Argentina</td>\n",
       "      <td>2022</td>\n",
       "      <td>Netherlands</td>\n",
       "    </tr>\n",
       "    <tr>\n",
       "      <th>58</th>\n",
       "      <td>Spain</td>\n",
       "      <td>Match 60</td>\n",
       "      <td>Portugal</td>\n",
       "      <td>2022</td>\n",
       "      <td>Portugal</td>\n",
       "    </tr>\n",
       "    <tr>\n",
       "      <th>59</th>\n",
       "      <td>England</td>\n",
       "      <td>Match 59</td>\n",
       "      <td>France</td>\n",
       "      <td>2022</td>\n",
       "      <td>France</td>\n",
       "    </tr>\n",
       "  </tbody>\n",
       "</table>\n",
       "</div>"
      ],
      "text/plain": [
       "           home     score       away  year       winner\n",
       "56      Germany  Match 58     Brazil  2022       Brazil\n",
       "57  Netherlands  Match 57  Argentina  2022  Netherlands\n",
       "58        Spain  Match 60   Portugal  2022     Portugal\n",
       "59      England  Match 59     France  2022       France"
      ]
     },
     "execution_count": 375,
     "metadata": {},
     "output_type": "execute_result"
    }
   ],
   "source": [
    "cari_pemenang(tabel_jadwal_seperempat)"
   ]
  },
  {
   "cell_type": "markdown",
   "id": "1153c04b",
   "metadata": {},
   "source": [
    "## 8. Semi-Final"
   ]
  },
  {
   "cell_type": "code",
   "execution_count": 376,
   "id": "73b4adb1",
   "metadata": {},
   "outputs": [
    {
     "data": {
      "text/html": [
       "<div>\n",
       "<style scoped>\n",
       "    .dataframe tbody tr th:only-of-type {\n",
       "        vertical-align: middle;\n",
       "    }\n",
       "\n",
       "    .dataframe tbody tr th {\n",
       "        vertical-align: top;\n",
       "    }\n",
       "\n",
       "    .dataframe thead th {\n",
       "        text-align: right;\n",
       "    }\n",
       "</style>\n",
       "<table border=\"1\" class=\"dataframe\">\n",
       "  <thead>\n",
       "    <tr style=\"text-align: right;\">\n",
       "      <th></th>\n",
       "      <th>home</th>\n",
       "      <th>score</th>\n",
       "      <th>away</th>\n",
       "      <th>year</th>\n",
       "      <th>winner</th>\n",
       "    </tr>\n",
       "  </thead>\n",
       "  <tbody>\n",
       "    <tr>\n",
       "      <th>60</th>\n",
       "      <td>Netherlands</td>\n",
       "      <td>Match 61</td>\n",
       "      <td>Brazil</td>\n",
       "      <td>2022</td>\n",
       "      <td>?</td>\n",
       "    </tr>\n",
       "    <tr>\n",
       "      <th>61</th>\n",
       "      <td>France</td>\n",
       "      <td>Match 62</td>\n",
       "      <td>Portugal</td>\n",
       "      <td>2022</td>\n",
       "      <td>?</td>\n",
       "    </tr>\n",
       "  </tbody>\n",
       "</table>\n",
       "</div>"
      ],
      "text/plain": [
       "           home     score      away  year winner\n",
       "60  Netherlands  Match 61    Brazil  2022      ?\n",
       "61       France  Match 62  Portugal  2022      ?"
      ]
     },
     "execution_count": 376,
     "metadata": {},
     "output_type": "execute_result"
    }
   ],
   "source": [
    "update_tabel(tabel_jadwal_seperempat,tabel_jadwal_semifinal)"
   ]
  },
  {
   "cell_type": "code",
   "execution_count": 377,
   "id": "bf54a5a5",
   "metadata": {},
   "outputs": [
    {
     "data": {
      "text/html": [
       "<div>\n",
       "<style scoped>\n",
       "    .dataframe tbody tr th:only-of-type {\n",
       "        vertical-align: middle;\n",
       "    }\n",
       "\n",
       "    .dataframe tbody tr th {\n",
       "        vertical-align: top;\n",
       "    }\n",
       "\n",
       "    .dataframe thead th {\n",
       "        text-align: right;\n",
       "    }\n",
       "</style>\n",
       "<table border=\"1\" class=\"dataframe\">\n",
       "  <thead>\n",
       "    <tr style=\"text-align: right;\">\n",
       "      <th></th>\n",
       "      <th>home</th>\n",
       "      <th>score</th>\n",
       "      <th>away</th>\n",
       "      <th>year</th>\n",
       "      <th>winner</th>\n",
       "    </tr>\n",
       "  </thead>\n",
       "  <tbody>\n",
       "    <tr>\n",
       "      <th>60</th>\n",
       "      <td>Netherlands</td>\n",
       "      <td>Match 61</td>\n",
       "      <td>Brazil</td>\n",
       "      <td>2022</td>\n",
       "      <td>Brazil</td>\n",
       "    </tr>\n",
       "    <tr>\n",
       "      <th>61</th>\n",
       "      <td>France</td>\n",
       "      <td>Match 62</td>\n",
       "      <td>Portugal</td>\n",
       "      <td>2022</td>\n",
       "      <td>France</td>\n",
       "    </tr>\n",
       "  </tbody>\n",
       "</table>\n",
       "</div>"
      ],
      "text/plain": [
       "           home     score      away  year  winner\n",
       "60  Netherlands  Match 61    Brazil  2022  Brazil\n",
       "61       France  Match 62  Portugal  2022  France"
      ]
     },
     "execution_count": 377,
     "metadata": {},
     "output_type": "execute_result"
    }
   ],
   "source": [
    "cari_pemenang(tabel_jadwal_semifinal)"
   ]
  },
  {
   "cell_type": "markdown",
   "id": "b9ee38cc",
   "metadata": {},
   "source": [
    "## 9. Final"
   ]
  },
  {
   "cell_type": "code",
   "execution_count": 379,
   "id": "cc60b765",
   "metadata": {},
   "outputs": [
    {
     "data": {
      "text/html": [
       "<div>\n",
       "<style scoped>\n",
       "    .dataframe tbody tr th:only-of-type {\n",
       "        vertical-align: middle;\n",
       "    }\n",
       "\n",
       "    .dataframe tbody tr th {\n",
       "        vertical-align: top;\n",
       "    }\n",
       "\n",
       "    .dataframe thead th {\n",
       "        text-align: right;\n",
       "    }\n",
       "</style>\n",
       "<table border=\"1\" class=\"dataframe\">\n",
       "  <thead>\n",
       "    <tr style=\"text-align: right;\">\n",
       "      <th></th>\n",
       "      <th>home</th>\n",
       "      <th>score</th>\n",
       "      <th>away</th>\n",
       "      <th>year</th>\n",
       "      <th>winner</th>\n",
       "    </tr>\n",
       "  </thead>\n",
       "  <tbody>\n",
       "    <tr>\n",
       "      <th>62</th>\n",
       "      <td>Losers Match 61</td>\n",
       "      <td>Match 63</td>\n",
       "      <td>Losers Match 62</td>\n",
       "      <td>2022</td>\n",
       "      <td>?</td>\n",
       "    </tr>\n",
       "    <tr>\n",
       "      <th>63</th>\n",
       "      <td>Brazil</td>\n",
       "      <td>Match 64</td>\n",
       "      <td>France</td>\n",
       "      <td>2022</td>\n",
       "      <td>?</td>\n",
       "    </tr>\n",
       "  </tbody>\n",
       "</table>\n",
       "</div>"
      ],
      "text/plain": [
       "               home     score             away  year winner\n",
       "62  Losers Match 61  Match 63  Losers Match 62  2022      ?\n",
       "63           Brazil  Match 64           France  2022      ?"
      ]
     },
     "execution_count": 379,
     "metadata": {},
     "output_type": "execute_result"
    }
   ],
   "source": [
    "update_tabel(tabel_jadwal_semifinal,tabel_jadwal_final)"
   ]
  },
  {
   "cell_type": "code",
   "execution_count": 380,
   "id": "7cca626a",
   "metadata": {},
   "outputs": [
    {
     "data": {
      "text/html": [
       "<div>\n",
       "<style scoped>\n",
       "    .dataframe tbody tr th:only-of-type {\n",
       "        vertical-align: middle;\n",
       "    }\n",
       "\n",
       "    .dataframe tbody tr th {\n",
       "        vertical-align: top;\n",
       "    }\n",
       "\n",
       "    .dataframe thead th {\n",
       "        text-align: right;\n",
       "    }\n",
       "</style>\n",
       "<table border=\"1\" class=\"dataframe\">\n",
       "  <thead>\n",
       "    <tr style=\"text-align: right;\">\n",
       "      <th></th>\n",
       "      <th>home</th>\n",
       "      <th>score</th>\n",
       "      <th>away</th>\n",
       "      <th>year</th>\n",
       "      <th>winner</th>\n",
       "    </tr>\n",
       "  </thead>\n",
       "  <tbody>\n",
       "    <tr>\n",
       "      <th>62</th>\n",
       "      <td>Losers Match 61</td>\n",
       "      <td>Match 63</td>\n",
       "      <td>Losers Match 62</td>\n",
       "      <td>2022</td>\n",
       "      <td>Losers Match 62</td>\n",
       "    </tr>\n",
       "    <tr>\n",
       "      <th>63</th>\n",
       "      <td>Brazil</td>\n",
       "      <td>Match 64</td>\n",
       "      <td>France</td>\n",
       "      <td>2022</td>\n",
       "      <td>Brazil</td>\n",
       "    </tr>\n",
       "  </tbody>\n",
       "</table>\n",
       "</div>"
      ],
      "text/plain": [
       "               home     score             away  year           winner\n",
       "62  Losers Match 61  Match 63  Losers Match 62  2022  Losers Match 62\n",
       "63           Brazil  Match 64           France  2022           Brazil"
      ]
     },
     "execution_count": 380,
     "metadata": {},
     "output_type": "execute_result"
    }
   ],
   "source": [
    "cari_pemenang(tabel_jadwal_final)"
   ]
  },
  {
   "cell_type": "code",
   "execution_count": null,
   "id": "029e7432",
   "metadata": {},
   "outputs": [],
   "source": []
  }
 ],
 "metadata": {
  "kernelspec": {
   "display_name": "Python 3 (ipykernel)",
   "language": "python",
   "name": "python3"
  },
  "language_info": {
   "codemirror_mode": {
    "name": "ipython",
    "version": 3
   },
   "file_extension": ".py",
   "mimetype": "text/x-python",
   "name": "python",
   "nbconvert_exporter": "python",
   "pygments_lexer": "ipython3",
   "version": "3.9.12"
  }
 },
 "nbformat": 4,
 "nbformat_minor": 5
}
